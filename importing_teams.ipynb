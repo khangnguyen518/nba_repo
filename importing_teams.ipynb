{
 "cells": [
  {
   "cell_type": "code",
   "execution_count": 2,
   "metadata": {},
   "outputs": [
    {
     "name": "stdout",
     "output_type": "stream",
     "text": [
      "Requirement already satisfied: nba_api in /Users/khangnguyen/anaconda3/lib/python3.11/site-packages (1.3.1)\n",
      "Requirement already satisfied: certifi<2024.0.0,>=2022.12.7 in /Users/khangnguyen/anaconda3/lib/python3.11/site-packages (from nba_api) (2023.7.22)\n",
      "Requirement already satisfied: numpy<2.0.0,>=1.22.2 in /Users/khangnguyen/anaconda3/lib/python3.11/site-packages (from nba_api) (1.24.3)\n",
      "Requirement already satisfied: requests<3.0,>=2.31 in /Users/khangnguyen/anaconda3/lib/python3.11/site-packages (from nba_api) (2.31.0)\n",
      "Requirement already satisfied: charset-normalizer<4,>=2 in /Users/khangnguyen/anaconda3/lib/python3.11/site-packages (from requests<3.0,>=2.31->nba_api) (2.0.4)\n",
      "Requirement already satisfied: idna<4,>=2.5 in /Users/khangnguyen/anaconda3/lib/python3.11/site-packages (from requests<3.0,>=2.31->nba_api) (3.4)\n",
      "Requirement already satisfied: urllib3<3,>=1.21.1 in /Users/khangnguyen/anaconda3/lib/python3.11/site-packages (from requests<3.0,>=2.31->nba_api) (1.26.16)\n",
      "^C\n",
      "\u001b[31mERROR: Operation cancelled by user\u001b[0m\u001b[31m\n",
      "\u001b[0mRequirement already satisfied: pandas in /Users/khangnguyen/anaconda3/lib/python3.11/site-packages (2.0.3)\n",
      "Requirement already satisfied: python-dateutil>=2.8.2 in /Users/khangnguyen/anaconda3/lib/python3.11/site-packages (from pandas) (2.8.2)\n",
      "Requirement already satisfied: pytz>=2020.1 in /Users/khangnguyen/anaconda3/lib/python3.11/site-packages (from pandas) (2023.3.post1)\n",
      "Requirement already satisfied: tzdata>=2022.1 in /Users/khangnguyen/anaconda3/lib/python3.11/site-packages (from pandas) (2023.3)\n",
      "Requirement already satisfied: numpy>=1.21.0 in /Users/khangnguyen/anaconda3/lib/python3.11/site-packages (from pandas) (1.24.3)\n",
      "Requirement already satisfied: six>=1.5 in /Users/khangnguyen/anaconda3/lib/python3.11/site-packages (from python-dateutil>=2.8.2->pandas) (1.16.0)\n"
     ]
    }
   ],
   "source": [
    "# !pip install nba_api\n",
    "# !pip install pandas\n",
    "from nba_api.stats.static import teams\n",
    "import pandas as pd\n",
    "\n",
    "# get_teams returns a list of 30 dictionaries, each an NBA team.\n",
    "nba_teams = teams.get_teams()\n",
    "teams_df = pd.DataFrame(nba_teams)\n",
    "teams_df"
   ]
  },
  {
   "cell_type": "code",
   "execution_count": 1,
   "metadata": {},
   "outputs": [
    {
     "name": "stdout",
     "output_type": "stream",
     "text": [
      "Requirement already satisfied: pymysql in /Users/khangnguyen/anaconda3/lib/python3.11/site-packages (1.1.0)\n"
     ]
    },
    {
     "ename": "NameError",
     "evalue": "name 'HOST' is not defined",
     "output_type": "error",
     "traceback": [
      "\u001b[0;31m---------------------------------------------------------------------------\u001b[0m",
      "\u001b[0;31mNameError\u001b[0m                                 Traceback (most recent call last)",
      "Cell \u001b[0;32mIn[1], line 7\u001b[0m\n\u001b[1;32m      3\u001b[0m \u001b[38;5;28;01mimport\u001b[39;00m \u001b[38;5;21;01mpymysql\u001b[39;00m\n\u001b[1;32m      5\u001b[0m \u001b[38;5;66;03m# Replace with your MySQL connection details\u001b[39;00m\n\u001b[1;32m      6\u001b[0m connection \u001b[38;5;241m=\u001b[39m pymysql\u001b[38;5;241m.\u001b[39mconnect(\n\u001b[0;32m----> 7\u001b[0m     host\u001b[38;5;241m=\u001b[39mHOST,\n\u001b[1;32m      8\u001b[0m     user\u001b[38;5;241m=\u001b[39mUSER,\n\u001b[1;32m      9\u001b[0m     password\u001b[38;5;241m=\u001b[39mPASSWORD\n\u001b[1;32m     10\u001b[0m )\n\u001b[1;32m     12\u001b[0m \u001b[38;5;66;03m# Create a cursor\u001b[39;00m\n\u001b[1;32m     13\u001b[0m cursor \u001b[38;5;241m=\u001b[39m connection\u001b[38;5;241m.\u001b[39mcursor()\n",
      "\u001b[0;31mNameError\u001b[0m: name 'HOST' is not defined"
     ]
    }
   ],
   "source": [
    "### CREATING DB\n",
    "# !pip install pymysql\n",
    "import pymysql\n",
    "\n",
    "# Replace with your MySQL connection details\n",
    "connection = pymysql.connect(\n",
    "    host=HOST,\n",
    "    user=USER,\n",
    "    password=PASSWORD\n",
    ")\n",
    "\n",
    "# Create a cursor\n",
    "cursor = connection.cursor()\n",
    "\n",
    "# # Create a new database and table \n",
    "cursor.execute(\"CREATE DATABASE nba_db\")\n",
    "cursor.execute(\"CREATE TABLE IF NOT EXISTS teams (id INT PRIMARY KEY, full_name VARCHAR(255), abbreviation VARCHAR(255), nickname VARCHAR(255), city VARCHAR(255), state VARCHAR(255), year_founded INT)\")\n",
    "\n",
    "# Insert DataFrame records into MySQL\n",
    "for i, row in teams_df.iterrows():\n",
    "    sql = \"INSERT INTO teams (id, full_name, abbreviation, nickname, city, state, year_founded) VALUES (%s, %s, %s, %s, %s, %s, %s)\"\n",
    "    cursor.execute(sql, tuple(row))\n",
    "\n",
    "# # Close the cursor and connection\n",
    "cursor.close()\n",
    "connection.close()"
   ]
  },
  {
   "cell_type": "code",
   "execution_count": null,
   "metadata": {},
   "outputs": [],
   "source": []
  }
 ],
 "metadata": {
  "kernelspec": {
   "display_name": "base",
   "language": "python",
   "name": "python3"
  },
  "language_info": {
   "codemirror_mode": {
    "name": "ipython",
    "version": 3
   },
   "file_extension": ".py",
   "mimetype": "text/x-python",
   "name": "python",
   "nbconvert_exporter": "python",
   "pygments_lexer": "ipython3",
   "version": "3.11.5"
  }
 },
 "nbformat": 4,
 "nbformat_minor": 2
}
